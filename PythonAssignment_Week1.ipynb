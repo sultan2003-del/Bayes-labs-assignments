{
  "cells": [
    {
      "cell_type": "markdown",
      "metadata": {
        "id": "view-in-github",
        "colab_type": "text"
      },
      "source": [
        "<a href=\"https://colab.research.google.com/github/sultan2003-del/Bayes-labs-assignments/blob/main/PythonAssignment_Week1.ipynb\" target=\"_parent\"><img src=\"https://colab.research.google.com/assets/colab-badge.svg\" alt=\"Open In Colab\"/></a>"
      ]
    },
    {
      "metadata": {
        "id": "6tgxENnLvLH7"
      },
      "cell_type": "markdown",
      "source": [
        "# Assignment - Python Basics Practice\n",
        "\n",
        "\n"
      ]
    },
    {
      "metadata": {
        "id": "1VqMdyiivLH-"
      },
      "cell_type": "markdown",
      "source": [
        "## Variables and Data Types\n",
        "\n",
        "**Q: Assign your name to the variable `name`.**"
      ]
    },
    {
      "metadata": {
        "trusted": true,
        "id": "yVIYuDDMvLH-"
      },
      "cell_type": "code",
      "source": [
        "name = \"Sultan Siddiq\"\n",
        "age = 22\n",
        "has_android_phone = True\n"
      ],
      "execution_count": null,
      "outputs": []
    },
    {
      "metadata": {
        "id": "QeK-QA7GvLH-"
      },
      "cell_type": "markdown",
      "source": [
        "**Q: Assign your age (real or fake) to the variable `age`.**"
      ]
    },
    {
      "metadata": {
        "trusted": true,
        "id": "axuBC-y6vLH_"
      },
      "cell_type": "code",
      "source": [],
      "execution_count": null,
      "outputs": []
    },
    {
      "metadata": {
        "id": "okMEWXHwvLH_"
      },
      "cell_type": "markdown",
      "source": [
        "**Q: Assign a boolean value to the variable `has_android_phone`.**"
      ]
    },
    {
      "metadata": {
        "trusted": true,
        "id": "Y6HA_IVGvLH_"
      },
      "cell_type": "code",
      "source": [],
      "execution_count": null,
      "outputs": []
    },
    {
      "metadata": {
        "id": "QfC_6aXfvLIA"
      },
      "cell_type": "markdown",
      "source": [
        "**Q: Create a dictionary `person` with keys `\"Name\"`, `\"Age\"`, `\"HasAndroidPhone\"` and values using the variables defined above.**"
      ]
    },
    {
      "metadata": {
        "trusted": true,
        "id": "VdNLm3L5vLIA"
      },
      "cell_type": "code",
      "source": [
        "person ="
      ],
      "execution_count": null,
      "outputs": []
    },
    {
      "metadata": {
        "id": "ytlWYVM7vLIA"
      },
      "cell_type": "markdown",
      "source": [
        "Let's use the `person` dictionary to print a nice message."
      ]
    },
    {
      "metadata": {
        "trusted": true,
        "id": "r5sq7VvevLIA"
      },
      "cell_type": "code",
      "source": [],
      "execution_count": null,
      "outputs": []
    },
    {
      "metadata": {
        "id": "HyQ9W2bGvLIB"
      },
      "cell_type": "markdown",
      "source": [
        "Use a `for` loop to display the `type` of each value stored against each key in `person`.**\n",
        "\n",
        "Here's the expected output for the key `\"Name\"`:\n",
        "\n",
        "```\n",
        "The key \"Name\" has the value \"Derek\" of the type \"<class 'str'>\"\n",
        "```"
      ]
    },
    {
      "metadata": {
        "id": "L5VT5-3yvLIB"
      },
      "cell_type": "markdown",
      "source": [
        "## Working with Lists\n",
        "\n",
        "**Q: Create a list containing the following 3 elements:**\n",
        "\n",
        "* your favorite color\n",
        "* the number of pets you have\n",
        "* a boolean value describing whether you have previous programming experience\n"
      ]
    },
    {
      "metadata": {
        "trusted": true,
        "id": "KKXeilefvLIB"
      },
      "cell_type": "code",
      "source": [],
      "execution_count": null,
      "outputs": []
    },
    {
      "metadata": {
        "id": "qPMwq-6RvLIB"
      },
      "cell_type": "markdown",
      "source": [
        "Let's see what the list looks like:"
      ]
    },
    {
      "metadata": {
        "trusted": true,
        "id": "o8NZIpdVvLIB"
      },
      "cell_type": "code",
      "source": [],
      "execution_count": null,
      "outputs": []
    },
    {
      "metadata": {
        "id": "5yhV9OtPvLIB"
      },
      "cell_type": "markdown",
      "source": [
        "**Q: Complete the following `print` and `if` statements by accessing the appropriate elements from `my_list`.**\n",
        "\n",
        "*Hint*: Use the list indexing notation `[]`."
      ]
    },
    {
      "metadata": {
        "trusted": true,
        "id": "xkkR9UObvLIB"
      },
      "cell_type": "code",
      "source": [
        "print('My favorite color is'.........)"
      ],
      "execution_count": null,
      "outputs": []
    },
    {
      "metadata": {
        "trusted": true,
        "id": "wS04XOMqvLIB"
      },
      "cell_type": "code",
      "source": [
        "print('I have {} pet(s).'........)"
      ],
      "execution_count": null,
      "outputs": []
    },
    {
      "metadata": {
        "trusted": true,
        "id": "oj9kdoAUvLIB"
      },
      "cell_type": "code",
      "source": [
        "if..........\n",
        "    print(\"I have previous programming experience\")\n",
        "else:\n",
        "    print(\"I do not have previous programming experience\")"
      ],
      "execution_count": null,
      "outputs": []
    },
    {
      "metadata": {
        "id": "IBhCrzSmvLIC"
      },
      "cell_type": "markdown",
      "source": [
        "**Q: Add your favorite single digit number to the end of the list using the appropriate list method.**"
      ]
    },
    {
      "metadata": {
        "trusted": true,
        "id": "mknB7HzavLIC"
      },
      "cell_type": "code",
      "source": [],
      "execution_count": null,
      "outputs": []
    },
    {
      "metadata": {
        "id": "8i7A_tYAvLIC"
      },
      "cell_type": "markdown",
      "source": [
        "Let's see if the number shows up in the list."
      ]
    },
    {
      "metadata": {
        "trusted": true,
        "id": "IOWnzL2vvLIC"
      },
      "cell_type": "code",
      "source": [],
      "execution_count": null,
      "outputs": []
    },
    {
      "metadata": {
        "id": "SWHbz8oNvLIC"
      },
      "cell_type": "markdown",
      "source": [
        "**Q: Remove the first element of the list, using the appropriate list method.**\n",
        "\n",
        "*Hint*: Check out methods of list here: https://www.w3schools.com/python/python_ref_list.asp"
      ]
    },
    {
      "metadata": {
        "trusted": true,
        "id": "ym4Y8jKgvLIC"
      },
      "cell_type": "code",
      "source": [],
      "execution_count": null,
      "outputs": []
    },
    {
      "metadata": {
        "trusted": true,
        "id": "jySrd216vLIC"
      },
      "cell_type": "code",
      "source": [],
      "execution_count": null,
      "outputs": []
    },
    {
      "metadata": {
        "id": "PoUaBIy6vLIC"
      },
      "cell_type": "markdown",
      "source": [
        "**Q: Complete the `print` statement below to display the number of elements in `my_list`.**"
      ]
    },
    {
      "metadata": {
        "trusted": true,
        "id": "dNKqXe-OvLIC"
      },
      "cell_type": "code",
      "source": [],
      "execution_count": null,
      "outputs": []
    },
    {
      "metadata": {
        "id": "zxabeFFzvLIH"
      },
      "cell_type": "markdown",
      "source": [
        "## Conditions and loops\n",
        "\n",
        "**Q: Calculate and display the sum of all the numbers divisible by 7 between 18 and 534 i.e. `21+28+35+...+525+532`**.\n",
        "\n",
        "*Hint*: One way to do this is to loop over a `range` using `for` and use an `if` statement inside it."
      ]
    },
    {
      "metadata": {
        "trusted": true,
        "id": "xBYbCDgqvLIH"
      },
      "cell_type": "code",
      "source": [],
      "execution_count": null,
      "outputs": []
    },
    {
      "metadata": {
        "trusted": true,
        "id": "ia99bHJhvLIH"
      },
      "cell_type": "code",
      "source": [
        "print('The sum of all the numbers divisible by 7 between 18 and 534 is', sum_of_numbers)"
      ],
      "execution_count": null,
      "outputs": []
    },
    {
      "cell_type": "markdown",
      "source": [
        "## Lists"
      ],
      "metadata": {
        "id": "4ViBWsq_CJR4"
      }
    },
    {
      "cell_type": "markdown",
      "source": [
        "Q1: Write a Python program that takes a list of integers as input and performs the following operations:\n",
        "\n",
        "Remove all duplicates from the list.\n",
        "\n",
        "Sort the list in descending order.\n",
        "\n",
        "Print the second largest number from the list."
      ],
      "metadata": {
        "id": "rGHhWCZKCLld"
      }
    },
    {
      "metadata": {
        "trusted": true,
        "id": "SZ82tPFVvLIL"
      },
      "cell_type": "code",
      "source": [],
      "execution_count": null,
      "outputs": []
    },
    {
      "cell_type": "markdown",
      "source": [
        "## Dictionary"
      ],
      "metadata": {
        "id": "XQEcpkFdCavt"
      }
    },
    {
      "cell_type": "markdown",
      "source": [
        "Q2: Create a dictionary from two lists, one containing student names and the other containing their scores. Then, write a program to:\n",
        "\n",
        "Print the dictionary.\n",
        "\n",
        "Find the student with the highest score.\n",
        "\n",
        "Add a new student with a given score to the dictionary."
      ],
      "metadata": {
        "id": "sHTYSJczCTGB"
      }
    },
    {
      "cell_type": "code",
      "source": [],
      "metadata": {
        "id": "1j5QxWp-CaPV"
      },
      "execution_count": null,
      "outputs": []
    },
    {
      "cell_type": "markdown",
      "source": [
        "#Tuple"
      ],
      "metadata": {
        "id": "2hyaanCNCiIi"
      }
    },
    {
      "cell_type": "markdown",
      "source": [
        "3: Write a Python program to create a tuple from a list of integers. Then:\n",
        "\n",
        "Find the minimum, maximum, and sum of the elements in the tuple.\n",
        "\n",
        "Convert the tuple into a string and print it."
      ],
      "metadata": {
        "id": "JXCvRY60CdIC"
      }
    },
    {
      "cell_type": "code",
      "source": [],
      "metadata": {
        "id": "DuJ7X4WECjob"
      },
      "execution_count": null,
      "outputs": []
    },
    {
      "cell_type": "markdown",
      "source": [
        "##Numpy"
      ],
      "metadata": {
        "id": "1kYvyW6XCzeq"
      }
    },
    {
      "cell_type": "markdown",
      "source": [
        "\n",
        "Q4: Using the NumPy library:\n",
        "\n",
        "Create a 3x3 matrix filled with random integers between 1 and 20.\n",
        "\n",
        "Replace all values greater than 10 with 0.\n",
        "\n",
        "Find the mean of the modified matrix."
      ],
      "metadata": {
        "id": "OPqNJ7fyCkAA"
      }
    },
    {
      "cell_type": "code",
      "source": [],
      "metadata": {
        "id": "nYOz4En9CxGp"
      },
      "execution_count": null,
      "outputs": []
    },
    {
      "cell_type": "markdown",
      "source": [
        "## Pandas"
      ],
      "metadata": {
        "id": "8Z0UcbZXC1U0"
      }
    },
    {
      "cell_type": "markdown",
      "source": [
        "Q5: Using the Pandas library:\n",
        "\n",
        "Create a DataFrame from a dictionary where the keys are column names, and the values are lists representing data for each column.\n",
        "\n",
        "Add a new column to the DataFrame by calculating the difference between two existing columns.\n",
        "\n",
        "Drop any rows where the value in a specific column is less than 50."
      ],
      "metadata": {
        "id": "abiz20V4C1RS"
      }
    },
    {
      "cell_type": "code",
      "source": [],
      "metadata": {
        "id": "ah5WJvzDC7iK"
      },
      "execution_count": null,
      "outputs": []
    },
    {
      "cell_type": "markdown",
      "source": [
        "##Exception Handling"
      ],
      "metadata": {
        "id": "VF5MTuC7C_94"
      }
    },
    {
      "cell_type": "markdown",
      "source": [
        "\n",
        "Q6: Write a Python program to perform division of two user-input numbers. Implement exception handling to:\n",
        "\n",
        "Catch the division by zero error.\n",
        "\n",
        "Catch invalid input type errors (e.g., if the user enters a string instead of a number).\n",
        "\n",
        "Ensure the program runs successfully even if an error occurs. (Hint: Add finally)"
      ],
      "metadata": {
        "id": "vLTDuZGuC_3d"
      }
    },
    {
      "cell_type": "code",
      "source": [],
      "metadata": {
        "id": "ktyOho_2DHyP"
      },
      "execution_count": null,
      "outputs": []
    },
    {
      "cell_type": "markdown",
      "source": [
        "## Matplotlib"
      ],
      "metadata": {
        "id": "rNyZu1w9DeTz"
      }
    },
    {
      "cell_type": "markdown",
      "source": [
        "\n",
        "Q7: Create a line chart using the Matplotlib library to display the population growth over years. The program should:\n",
        "\n",
        "Create dummy data: containing years and population values.\n",
        "\n",
        "Plot the line chart with proper labels for the x-axis, y-axis, and a title."
      ],
      "metadata": {
        "id": "Udg5GavODMuT"
      }
    },
    {
      "cell_type": "code",
      "source": [],
      "metadata": {
        "id": "k6nTd1wRDdUg"
      },
      "execution_count": null,
      "outputs": []
    },
    {
      "cell_type": "markdown",
      "source": [
        "## Seaborn"
      ],
      "metadata": {
        "id": "_W9lJpzZDxNF"
      }
    },
    {
      "cell_type": "markdown",
      "source": [
        "\n",
        "Q8: Using the Seaborn library, plot a distribution of the sepal_length column from the Iris dataset. The program should:\n",
        "\n",
        "Load the 'iris' dataset from Seaborn's sample datasets.\n",
        "Plot a KDE (Kernel Density Estimation) plot for the sepal_length column.\n",
        "Customize the plot with a title and set the color of the plot to blue.\n"
      ],
      "metadata": {
        "id": "hM12mAgqDyId"
      }
    },
    {
      "cell_type": "code",
      "source": [],
      "metadata": {
        "id": "3CYknAGGDzpK"
      },
      "execution_count": null,
      "outputs": []
    },
    {
      "cell_type": "markdown",
      "source": [
        "## Pandas DataFrame"
      ],
      "metadata": {
        "id": "fFTydMAXD-cD"
      }
    },
    {
      "cell_type": "markdown",
      "source": [
        "\n",
        "Q9: Write a Python program to perform the following operations on the Iris dataset:\n",
        "\n",
        "Load the dataset into a Pandas DataFrame.\n",
        "\n",
        "Display the first 10 rows of the DataFrame.\n",
        "\n",
        "Group the data by the species column and calculate the mean of each numeric column for each species.\n",
        "\n",
        "Add a new column sepal_area that is the product of sepal_length and sepal_width.\n",
        "\n",
        "Filter the DataFrame to show only rows where sepal_area is greater than 20."
      ],
      "metadata": {
        "id": "nZSrcAuuD-Yt"
      }
    },
    {
      "cell_type": "code",
      "source": [],
      "metadata": {
        "id": "vWpR1ZA1EE5v"
      },
      "execution_count": null,
      "outputs": []
    },
    {
      "cell_type": "markdown",
      "source": [
        "## Functions"
      ],
      "metadata": {
        "id": "boirWrgRElAS"
      }
    },
    {
      "cell_type": "markdown",
      "source": [
        "Q10: Write a Python program that defines a function to calculate the Body Mass Index (BMI) based on a person's weight and height. The program should:\n",
        "\n",
        "Define a function calculate_bmi(weight, height) that takes the weight (in kilograms) and height (in meters) as arguments and returns the BMI.\n",
        "\n",
        "BMI = weight/(height**2)\n",
        "\n",
        "Use the function to calculate the BMI for a given weight and height input by the user.\n",
        "\n",
        "Define another function bmi_category(bmi) that takes the BMI as input and returns the BMI category:\n",
        "\n",
        "\"Underweight\" if BMI < 18.5\n",
        "\n",
        "\"Normal weight\" if 18.5 <= BMI < 24.9\n",
        "\n",
        "\"Overweight\" if 25 <= BMI < 29.9\n",
        "\n",
        "\"Obese\" if BMI >= 30\n",
        "\n",
        "(Hint; use if elif else multiple conditions)\n",
        "\n",
        "Print the calculated BMI and the corresponding category."
      ],
      "metadata": {
        "id": "Ve2MS7VKEk9C"
      }
    },
    {
      "cell_type": "markdown",
      "source": [
        "## OOPS"
      ],
      "metadata": {
        "id": "H9q9BWZ6Li8D"
      }
    },
    {
      "cell_type": "markdown",
      "source": [
        "Problem #1: Complete the code below to calcualte volume and surface area of a cylinder"
      ],
      "metadata": {
        "id": "lGs0H00rL3RD"
      }
    },
    {
      "cell_type": "code",
      "source": [
        "class Cylinder:\n",
        "\n",
        "    def __init__(self,height=1,radius=1):\n",
        "        pass\n",
        "\n",
        "    def volume(self):\n",
        "        pass\n",
        "\n",
        "    def surface_area(self):\n",
        "        pass"
      ],
      "metadata": {
        "id": "vk_rMP-8E31G"
      },
      "execution_count": null,
      "outputs": []
    },
    {
      "cell_type": "code",
      "source": [
        "# EXAMPLE OUTPUT\n",
        "c = Cylinder(2,3)"
      ],
      "metadata": {
        "id": "rUZwaNMmMCF5"
      },
      "execution_count": null,
      "outputs": []
    },
    {
      "cell_type": "code",
      "source": [
        "c.volume()"
      ],
      "metadata": {
        "id": "wQSeJ9wQMENx"
      },
      "execution_count": null,
      "outputs": []
    },
    {
      "cell_type": "code",
      "source": [
        "c.surface_area()"
      ],
      "metadata": {
        "id": "94_3vbW3MGJN"
      },
      "execution_count": null,
      "outputs": []
    },
    {
      "cell_type": "markdown",
      "source": [
        "Problem #2:\n",
        "\n",
        "- Create a bank account class that has two attributes:\n",
        "\n",
        "   - owner\n",
        "   - balance\n",
        "   \n",
        "- and two methods:\n",
        "\n",
        "   - deposit\n",
        "   - withdraw\n",
        "\n",
        "Instantiate your class, make several deposits and withdrawals, and test to make sure the account can't be overdrawn."
      ],
      "metadata": {
        "id": "VjUSspmUXvf8"
      }
    },
    {
      "cell_type": "markdown",
      "source": [
        "## Decorators"
      ],
      "metadata": {
        "id": "VKDEFWpOYc5l"
      }
    },
    {
      "cell_type": "markdown",
      "source": [
        "1. Write a Python program to create a decorator function to measure the execution time of a function.\n",
        "\n"
      ],
      "metadata": {
        "id": "SCtuWz6WZpDr"
      }
    },
    {
      "cell_type": "code",
      "source": [],
      "metadata": {
        "id": "PbDSUEznYFG7"
      },
      "execution_count": null,
      "outputs": []
    }
  ],
  "metadata": {
    "kernelspec": {
      "language": "python",
      "display_name": "Python 3",
      "name": "python3"
    },
    "language_info": {
      "pygments_lexer": "ipython3",
      "nbconvert_exporter": "python",
      "version": "3.6.4",
      "file_extension": ".py",
      "codemirror_mode": {
        "name": "ipython",
        "version": 3
      },
      "name": "python",
      "mimetype": "text/x-python"
    },
    "colab": {
      "provenance": [],
      "include_colab_link": true
    }
  },
  "nbformat": 4,
  "nbformat_minor": 0
}